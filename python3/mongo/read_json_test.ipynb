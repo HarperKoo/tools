{
 "cells": [
  {
   "cell_type": "code",
   "execution_count": 29,
   "metadata": {
    "collapsed": false
   },
   "outputs": [
    {
     "name": "stdout",
     "output_type": "stream",
     "text": [
      "[{'_id': {'$oid': '58af8f6681688630d09fe907'},\n",
      "  'container': {'barcode': '0100041486',\n",
      "                'code': '인천82아9914',\n",
      "                'typeCode': 'T17',\n",
      "                'typeGroup': 'LINEHAULTRUCK',\n",
      "                'typeName': '11t'},\n",
      "  'containerUsage': {'container': {'barcode': '0100041486',\n",
      "                                   'code': '인천82아9914',\n",
      "                                   'typeCode': 'T17',\n",
      "                                   'typeGroup': 'LINEHAULTRUCK',\n",
      "                                   'typeName': '11t'},\n",
      "                     'destinationWorkplace': {'code': '8',\n",
      "                                              'id': 85,\n",
      "                                              'name': '칠곡HUB',\n",
      "                                              'type': 'HUB'},\n",
      "                     'id': {'$numberLong': 11090},\n",
      "                     'originWorkplace': {'code': '5',\n",
      "                                         'id': 81,\n",
      "                                         'name': '인천4HUB',\n",
      "                                         'type': 'HUB'},\n",
      "                     'totalShipmentQuantity': 533,\n",
      "                     'totalShipmentVolume': {'$numberLong': '9146143800'},\n",
      "                     'totalShipmentWeight': 838380},\n",
      "  'createdAt': {'$date': '2017-02-24T01:41:58.184Z'},\n",
      "  'createdBy': 'in0032',\n",
      "  'happenedAt': {'$date': '2017-02-24T01:40:19Z'},\n",
      "  'invoiceNumber': '10171451773755',\n",
      "  'orderNumber': {'$numberLong': '8000004926554'},\n",
      "  'shipment': {'$id': {'$oid': '58af8e5881688630d09fd6f7'}, '$ref': 'shipment'},\n",
      "  'status': 'CENTER_LOADED',\n",
      "  'targetWorkplace': {'code': '8', 'id': 85, 'name': '칠곡HUB', 'type': 'HUB'},\n",
      "  'updatedAt': {'$date': '2017-02-24T01:41:58.184Z'},\n",
      "  'updatedBy': 'in0032',\n",
      "  'worker': {'fullName': 'in0032 (안병도)', 'id': 49, 'username': 'in0032'},\n",
      "  'workplace': {'code': '5', 'id': 81, 'name': '인천4HUB', 'type': 'HUB'}},\n",
      " {'_id': {'$oid': '58af8f6681688630d09fe907'},\n",
      "  'container': {'barcode': '0100041486',\n",
      "                'code': '인천82아9914',\n",
      "                'typeCode': 'T17',\n",
      "                'typeGroup': 'LINEHAULTRUCK',\n",
      "                'typeName': '11t'},\n",
      "  'containerUsage': {'container': {'barcode': '0100041486',\n",
      "                                   'code': '인천82아9914',\n",
      "                                   'typeCode': 'T17',\n",
      "                                   'typeGroup': 'LINEHAULTRUCK',\n",
      "                                   'typeName': '11t'},\n",
      "                     'destinationWorkplace': {'code': '8',\n",
      "                                              'id': 85,\n",
      "                                              'name': '칠곡HUB',\n",
      "                                              'type': 'HUB'},\n",
      "                     'id': {'$numberLong': 11090},\n",
      "                     'originWorkplace': {'code': '5',\n",
      "                                         'id': 81,\n",
      "                                         'name': '인천4HUB',\n",
      "                                         'type': 'HUB'},\n",
      "                     'totalShipmentQuantity': 533,\n",
      "                     'totalShipmentVolume': {'$numberLong': '9146143800'},\n",
      "                     'totalShipmentWeight': 838380},\n",
      "  'createdAt': {'$date': '2017-02-24T01:41:58.184Z'},\n",
      "  'createdBy': 'in0032',\n",
      "  'happenedAt': {'$date': '2017-02-24T01:40:19Z'},\n",
      "  'invoiceNumber': '10171451773755',\n",
      "  'orderNumber': {'$numberLong': '8000004926554'},\n",
      "  'shipment': {'$id': {'$oid': '58af8e5881688630d09fd6f7'}, '$ref': 'shipment'},\n",
      "  'status': 'CENTER_LOADED',\n",
      "  'targetWorkplace': {'code': '8', 'id': 85, 'name': '칠곡HUB', 'type': 'HUB'},\n",
      "  'updatedAt': {'$date': '2017-02-24T01:41:58.184Z'},\n",
      "  'updatedBy': 'in0032',\n",
      "  'worker': {'fullName': 'in0032 (안병도)', 'id': 49, 'username': 'in0032'},\n",
      "  'workplace': {'code': '5', 'id': 81, 'name': '인천4HUB', 'type': 'HUB'}}]\n"
     ]
    }
   ],
   "source": [
    "#!/usr/bin/python3\n",
    "import json\n",
    "from pprint import pprint\n",
    "\n",
    "jstr = {\n",
    "  \"_id\": {\n",
    "    \"$oid\": \"58af8f6681688630d09fe907\"\n",
    "  },\n",
    "  \"shipment\": {\n",
    "    \"$ref\": \"shipment\",\n",
    "    \"$id\": {\n",
    "      \"$oid\": \"58af8e5881688630d09fd6f7\"\n",
    "    }\n",
    "  },\n",
    "  \"container\": {\n",
    "    \"barcode\": \"0100041486\",\n",
    "    \"code\": \"인천82아9914\",\n",
    "    \"typeCode\": \"T17\",\n",
    "    \"typeName\": \"11t\",\n",
    "    \"typeGroup\": \"LINEHAULTRUCK\"\n",
    "  },\n",
    "  \"containerUsage\": {\n",
    "    \"id\": {\n",
    "      \"$numberLong\": 11090\n",
    "    },\n",
    "    \"container\": {\n",
    "      \"barcode\": \"0100041486\",\n",
    "      \"code\": \"인천82아9914\",\n",
    "      \"typeCode\": \"T17\",\n",
    "      \"typeName\": \"11t\",\n",
    "      \"typeGroup\": \"LINEHAULTRUCK\"\n",
    "    },\n",
    "    \"originWorkplace\": {\n",
    "      \"id\": 81,\n",
    "      \"code\": \"5\",\n",
    "      \"name\": \"인천4HUB\",\n",
    "      \"type\": \"HUB\"\n",
    "    },\n",
    "    \"destinationWorkplace\": {\n",
    "      \"id\": 85,\n",
    "      \"code\": \"8\",\n",
    "      \"name\": \"칠곡HUB\",\n",
    "      \"type\": \"HUB\"\n",
    "    },\n",
    "    \"totalShipmentQuantity\": 533,\n",
    "    \"totalShipmentWeight\": 838380,\n",
    "    \"totalShipmentVolume\": {\n",
    "      \"$numberLong\": \"9146143800\"\n",
    "    }\n",
    "  },\n",
    "  \"invoiceNumber\": \"10171451773755\",\n",
    "  \"orderNumber\": {\n",
    "    \"$numberLong\": \"8000004926554\"\n",
    "  },\n",
    "  \"worker\": {\n",
    "    \"id\": 49,\n",
    "    \"username\": \"in0032\",\n",
    "    \"fullName\": \"in0032 (안병도)\"\n",
    "  },\n",
    "  \"status\": \"CENTER_LOADED\",\n",
    "  \"workplace\": {\n",
    "    \"id\": 81,\n",
    "    \"code\": \"5\",\n",
    "    \"name\": \"인천4HUB\",\n",
    "    \"type\": \"HUB\"\n",
    "  },\n",
    "  \"targetWorkplace\": {\n",
    "    \"id\": 85,\n",
    "    \"code\": \"8\",\n",
    "    \"name\": \"칠곡HUB\",\n",
    "    \"type\": \"HUB\"\n",
    "  },\n",
    "  \"happenedAt\": {\n",
    "    \"$date\": \"2017-02-24T01:40:19Z\"\n",
    "  },\n",
    "  \"createdBy\": \"in0032\",\n",
    "  \"createdAt\": {\n",
    "    \"$date\": \"2017-02-24T01:41:58.184Z\"\n",
    "  },\n",
    "  \"updatedBy\": \"in0032\",\n",
    "  \"updatedAt\": {\n",
    "    \"$date\": \"2017-02-24T01:41:58.184Z\"\n",
    "  }\n",
    "},{\n",
    "  \"_id\": {\n",
    "    \"$oid\": \"58af8f6681688630d09fe907\"\n",
    "  },\n",
    "  \"shipment\": {\n",
    "    \"$ref\": \"shipment\",\n",
    "    \"$id\": {\n",
    "      \"$oid\": \"58af8e5881688630d09fd6f7\"\n",
    "    }\n",
    "  },\n",
    "  \"container\": {\n",
    "    \"barcode\": \"0100041486\",\n",
    "    \"code\": \"인천82아9914\",\n",
    "    \"typeCode\": \"T17\",\n",
    "    \"typeName\": \"11t\",\n",
    "    \"typeGroup\": \"LINEHAULTRUCK\"\n",
    "  },\n",
    "  \"containerUsage\": {\n",
    "    \"id\": {\n",
    "      \"$numberLong\": 11090\n",
    "    },\n",
    "    \"container\": {\n",
    "      \"barcode\": \"0100041486\",\n",
    "      \"code\": \"인천82아9914\",\n",
    "      \"typeCode\": \"T17\",\n",
    "      \"typeName\": \"11t\",\n",
    "      \"typeGroup\": \"LINEHAULTRUCK\"\n",
    "    },\n",
    "    \"originWorkplace\": {\n",
    "      \"id\": 81,\n",
    "      \"code\": \"5\",\n",
    "      \"name\": \"인천4HUB\",\n",
    "      \"type\": \"HUB\"\n",
    "    },\n",
    "    \"destinationWorkplace\": {\n",
    "      \"id\": 85,\n",
    "      \"code\": \"8\",\n",
    "      \"name\": \"칠곡HUB\",\n",
    "      \"type\": \"HUB\"\n",
    "    },\n",
    "    \"totalShipmentQuantity\": 533,\n",
    "    \"totalShipmentWeight\": 838380,\n",
    "    \"totalShipmentVolume\": {\n",
    "      \"$numberLong\": \"9146143800\"\n",
    "    }\n",
    "  },\n",
    "  \"invoiceNumber\": \"10171451773755\",\n",
    "  \"orderNumber\": {\n",
    "    \"$numberLong\": \"8000004926554\"\n",
    "  },\n",
    "  \"worker\": {\n",
    "    \"id\": 49,\n",
    "    \"username\": \"in0032\",\n",
    "    \"fullName\": \"in0032 (안병도)\"\n",
    "  },\n",
    "  \"status\": \"CENTER_LOADED\",\n",
    "  \"workplace\": {\n",
    "    \"id\": 81,\n",
    "    \"code\": \"5\",\n",
    "    \"name\": \"인천4HUB\",\n",
    "    \"type\": \"HUB\"\n",
    "  },\n",
    "  \"targetWorkplace\": {\n",
    "    \"id\": 85,\n",
    "    \"code\": \"8\",\n",
    "    \"name\": \"칠곡HUB\",\n",
    "    \"type\": \"HUB\"\n",
    "  },\n",
    "  \"happenedAt\": {\n",
    "    \"$date\": \"2017-02-24T01:40:19Z\"\n",
    "  },\n",
    "  \"createdBy\": \"in0032\",\n",
    "  \"createdAt\": {\n",
    "    \"$date\": \"2017-02-24T01:41:58.184Z\"\n",
    "  },\n",
    "  \"updatedBy\": \"in0032\",\n",
    "  \"updatedAt\": {\n",
    "    \"$date\": \"2017-02-24T01:41:58.184Z\"\n",
    "  }\n",
    "}\n",
    "\n",
    "data_str = json.dumps(jstr)\n",
    "data = json.loads(data_str)\n",
    "pprint(data)"
   ]
  },
  {
   "cell_type": "code",
   "execution_count": 37,
   "metadata": {
    "collapsed": false
   },
   "outputs": [
    {
     "data": {
      "text/plain": [
       "dict"
      ]
     },
     "execution_count": 37,
     "metadata": {},
     "output_type": "execute_result"
    }
   ],
   "source": [
    "type(data[0])"
   ]
  },
  {
   "cell_type": "code",
   "execution_count": 33,
   "metadata": {
    "collapsed": false,
    "scrolled": true
   },
   "outputs": [
    {
     "data": {
      "text/plain": [
       "{'container': {'barcode': '0100041486',\n",
       "  'code': '인천82아9914',\n",
       "  'typeCode': 'T17',\n",
       "  'typeGroup': 'LINEHAULTRUCK',\n",
       "  'typeName': '11t'},\n",
       " 'destinationWorkplace': {'code': '8',\n",
       "  'id': 85,\n",
       "  'name': '칠곡HUB',\n",
       "  'type': 'HUB'},\n",
       " 'id': {'$numberLong': 11090},\n",
       " 'originWorkplace': {'code': '5', 'id': 81, 'name': '인천4HUB', 'type': 'HUB'},\n",
       " 'totalShipmentQuantity': 533,\n",
       " 'totalShipmentVolume': {'$numberLong': '9146143800'},\n",
       " 'totalShipmentWeight': 838380}"
      ]
     },
     "execution_count": 33,
     "metadata": {},
     "output_type": "execute_result"
    }
   ],
   "source": [
    "data[0].get(\"containerUsage\")"
   ]
  },
  {
   "cell_type": "code",
   "execution_count": 34,
   "metadata": {
    "collapsed": true
   },
   "outputs": [],
   "source": [
    "from pandas.io.json import json_normalize\n"
   ]
  },
  {
   "cell_type": "code",
   "execution_count": 35,
   "metadata": {
    "collapsed": false
   },
   "outputs": [
    {
     "data": {
      "text/html": [
       "<div>\n",
       "<table border=\"1\" class=\"dataframe\">\n",
       "  <thead>\n",
       "    <tr style=\"text-align: right;\">\n",
       "      <th></th>\n",
       "      <th>_id.$oid</th>\n",
       "      <th>container.barcode</th>\n",
       "      <th>container.code</th>\n",
       "      <th>container.typeCode</th>\n",
       "      <th>container.typeGroup</th>\n",
       "      <th>container.typeName</th>\n",
       "      <th>containerUsage.container.barcode</th>\n",
       "      <th>containerUsage.container.code</th>\n",
       "      <th>containerUsage.container.typeCode</th>\n",
       "      <th>containerUsage.container.typeGroup</th>\n",
       "      <th>...</th>\n",
       "      <th>targetWorkplace.type</th>\n",
       "      <th>updatedAt.$date</th>\n",
       "      <th>updatedBy</th>\n",
       "      <th>worker.fullName</th>\n",
       "      <th>worker.id</th>\n",
       "      <th>worker.username</th>\n",
       "      <th>workplace.code</th>\n",
       "      <th>workplace.id</th>\n",
       "      <th>workplace.name</th>\n",
       "      <th>workplace.type</th>\n",
       "    </tr>\n",
       "  </thead>\n",
       "  <tbody>\n",
       "    <tr>\n",
       "      <th>0</th>\n",
       "      <td>58af8f6681688630d09fe907</td>\n",
       "      <td>0100041486</td>\n",
       "      <td>인천82아9914</td>\n",
       "      <td>T17</td>\n",
       "      <td>LINEHAULTRUCK</td>\n",
       "      <td>11t</td>\n",
       "      <td>0100041486</td>\n",
       "      <td>인천82아9914</td>\n",
       "      <td>T17</td>\n",
       "      <td>LINEHAULTRUCK</td>\n",
       "      <td>...</td>\n",
       "      <td>HUB</td>\n",
       "      <td>2017-02-24T01:41:58.184Z</td>\n",
       "      <td>in0032</td>\n",
       "      <td>in0032 (안병도)</td>\n",
       "      <td>49</td>\n",
       "      <td>in0032</td>\n",
       "      <td>5</td>\n",
       "      <td>81</td>\n",
       "      <td>인천4HUB</td>\n",
       "      <td>HUB</td>\n",
       "    </tr>\n",
       "  </tbody>\n",
       "</table>\n",
       "<p>1 rows × 44 columns</p>\n",
       "</div>"
      ],
      "text/plain": [
       "                   _id.$oid container.barcode container.code  \\\n",
       "0  58af8f6681688630d09fe907        0100041486      인천82아9914   \n",
       "\n",
       "  container.typeCode container.typeGroup container.typeName  \\\n",
       "0                T17       LINEHAULTRUCK                11t   \n",
       "\n",
       "  containerUsage.container.barcode containerUsage.container.code  \\\n",
       "0                       0100041486                     인천82아9914   \n",
       "\n",
       "  containerUsage.container.typeCode containerUsage.container.typeGroup  \\\n",
       "0                               T17                      LINEHAULTRUCK   \n",
       "\n",
       "       ...       targetWorkplace.type           updatedAt.$date  updatedBy  \\\n",
       "0      ...                        HUB  2017-02-24T01:41:58.184Z     in0032   \n",
       "\n",
       "  worker.fullName worker.id  worker.username workplace.code  workplace.id  \\\n",
       "0    in0032 (안병도)        49           in0032              5            81   \n",
       "\n",
       "  workplace.name workplace.type  \n",
       "0         인천4HUB            HUB  \n",
       "\n",
       "[1 rows x 44 columns]"
      ]
     },
     "execution_count": 35,
     "metadata": {},
     "output_type": "execute_result"
    }
   ],
   "source": [
    "json_normalize(data[0])"
   ]
  },
  {
   "cell_type": "code",
   "execution_count": 6,
   "metadata": {
    "collapsed": false
   },
   "outputs": [
    {
     "data": {
      "text/plain": [
       "'CENTER_LOADED'"
      ]
     },
     "execution_count": 6,
     "metadata": {},
     "output_type": "execute_result"
    }
   ],
   "source": [
    "data.get(\"status\",\"createdAt\")"
   ]
  },
  {
   "cell_type": "code",
   "execution_count": 5,
   "metadata": {
    "collapsed": true
   },
   "outputs": [],
   "source": [
    "import ijson\n",
    "from ijson import parse"
   ]
  },
  {
   "cell_type": "code",
   "execution_count": 22,
   "metadata": {
    "collapsed": true
   },
   "outputs": [],
   "source": [
    "f=open('test.json','r')\n",
    "parser = parse(f)"
   ]
  },
  {
   "cell_type": "code",
   "execution_count": 23,
   "metadata": {
    "collapsed": true
   },
   "outputs": [],
   "source": [
    "objects = ijson.items(f, 'containerUsage.container.item')"
   ]
  },
  {
   "cell_type": "code",
   "execution_count": 24,
   "metadata": {
    "collapsed": false
   },
   "outputs": [],
   "source": [
    "for obj in objects:\n",
    "    print(obj[\"typeName\"])"
   ]
  },
  {
   "cell_type": "code",
   "execution_count": null,
   "metadata": {
    "collapsed": true
   },
   "outputs": [],
   "source": []
  }
 ],
 "metadata": {
  "kernelspec": {
   "display_name": "Python 3",
   "language": "python",
   "name": "python3"
  },
  "language_info": {
   "codemirror_mode": {
    "name": "ipython",
    "version": 3
   },
   "file_extension": ".py",
   "mimetype": "text/x-python",
   "name": "python",
   "nbconvert_exporter": "python",
   "pygments_lexer": "ipython3",
   "version": "3.5.2"
  }
 },
 "nbformat": 4,
 "nbformat_minor": 2
}
