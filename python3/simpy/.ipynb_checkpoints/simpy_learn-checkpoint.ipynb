{
 "cells": [
  {
   "cell_type": "code",
   "execution_count": 2,
   "metadata": {
    "collapsed": false
   },
   "outputs": [
    {
     "name": "stdout",
     "output_type": "stream",
     "text": [
      "now=1, value=42\n"
     ]
    }
   ],
   "source": [
    "import simpy\n",
    "\n",
    "def example(env):\n",
    "    event = simpy.events.Timeout(env, delay=1, value=42)\n",
    "    value = yield event\n",
    "    print('now=%d, value=%d' % (env.now, value))\n",
    "    \n",
    "env = simpy.Environment()\n",
    "p = env.process(example(env))\n",
    "\n",
    "env.run()"
   ]
  },
  {
   "cell_type": "code",
   "execution_count": 15,
   "metadata": {
    "collapsed": false
   },
   "outputs": [
    {
     "data": {
      "text/plain": [
       "42"
      ]
     },
     "execution_count": 15,
     "metadata": {},
     "output_type": "execute_result"
    }
   ],
   "source": [
    "def example(env):\n",
    "    yield env.timeout(1)\n",
    "    env.exit(42) \n",
    "\n",
    "env = simpy.Environment()\n",
    "p = env.process(example(env))\n",
    "env.run(until=p)"
   ]
  },
  {
   "cell_type": "code",
   "execution_count": 9,
   "metadata": {
    "collapsed": false
   },
   "outputs": [
    {
     "name": "stdout",
     "output_type": "stream",
     "text": [
      "1\n"
     ]
    },
    {
     "data": {
      "text/plain": [
       "'Monty Python’s Flying Circus'"
      ]
     },
     "execution_count": 9,
     "metadata": {},
     "output_type": "execute_result"
    }
   ],
   "source": [
    "def my_proc(env):\n",
    "    yield env.timeout(1)\n",
    "    print(env.now)\n",
    "    return 'Monty Python’s Flying Circus'\n",
    "env = simpy.Environment()\n",
    "proc = env.process(my_proc(env))\n",
    "\n",
    "env.run(until=proc)"
   ]
  },
  {
   "cell_type": "code",
   "execution_count": 5,
   "metadata": {
    "collapsed": false
   },
   "outputs": [
    {
     "name": "stdout",
     "output_type": "stream",
     "text": [
      "<Process(my_proc) object at 0x110643748>\n",
      "<Process(my_proc) object at 0x110643748>\n"
     ]
    }
   ],
   "source": [
    "def subfunc(env):\n",
    "    print(env.active_process)  # will print \"p1\"\n",
    "\n",
    "def my_proc(env):\n",
    "    while True:\n",
    "        print(env.active_process)  # will print \"p1\"\n",
    "        subfunc(env)\n",
    "        yield env.timeout(1)\n",
    "\n",
    "env = simpy.Environment()\n",
    "p1 = env.process(my_proc(env))\n",
    "env.active_process  # None\n",
    "env.step()\n",
    "env.active_process  # None"
   ]
  },
  {
   "cell_type": "code",
   "execution_count": null,
   "metadata": {
    "collapsed": true
   },
   "outputs": [],
   "source": []
  }
 ],
 "metadata": {
  "kernelspec": {
   "display_name": "Python 3",
   "language": "python",
   "name": "python3"
  },
  "language_info": {
   "codemirror_mode": {
    "name": "ipython",
    "version": 3
   },
   "file_extension": ".py",
   "mimetype": "text/x-python",
   "name": "python",
   "nbconvert_exporter": "python",
   "pygments_lexer": "ipython3",
   "version": "3.5.2"
  }
 },
 "nbformat": 4,
 "nbformat_minor": 2
}
