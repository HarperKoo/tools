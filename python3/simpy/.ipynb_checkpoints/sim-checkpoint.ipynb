{
 "cells": [
  {
   "cell_type": "code",
   "execution_count": 21,
   "metadata": {
    "collapsed": false
   },
   "outputs": [
    {
     "name": "stdout",
     "output_type": "stream",
     "text": [
      "Start\n"
     ]
    },
    {
     "ename": "NameError",
     "evalue": "name 'depart' is not defined",
     "output_type": "error",
     "traceback": [
      "\u001b[0;31m---------------------------------------------------------------------------\u001b[0m",
      "\u001b[0;31mNameError\u001b[0m                                 Traceback (most recent call last)",
      "\u001b[0;32m<ipython-input-21-2702c9b0fc37>\u001b[0m in \u001b[0;36m<module>\u001b[0;34m()\u001b[0m\n\u001b[1;32m     70\u001b[0m \u001b[0mprint\u001b[0m\u001b[0;34m(\u001b[0m\u001b[0;34m'Start'\u001b[0m\u001b[0;34m)\u001b[0m\u001b[0;34m\u001b[0m\u001b[0m\n\u001b[1;32m     71\u001b[0m \u001b[0menv\u001b[0m \u001b[0;34m=\u001b[0m \u001b[0msimpy\u001b[0m\u001b[0;34m.\u001b[0m\u001b[0mEnvironment\u001b[0m\u001b[0;34m(\u001b[0m\u001b[0;34m)\u001b[0m\u001b[0;34m\u001b[0m\u001b[0m\n\u001b[0;32m---> 72\u001b[0;31m \u001b[0mcontainer\u001b[0m \u001b[0;34m=\u001b[0m \u001b[0mContainer\u001b[0m\u001b[0;34m(\u001b[0m\u001b[0menv\u001b[0m\u001b[0;34m,\u001b[0m\u001b[0;36m100\u001b[0m\u001b[0;34m,\u001b[0m\u001b[0;36m20\u001b[0m\u001b[0;34m,\u001b[0m\u001b[0mdepart\u001b[0m\u001b[0;34m)\u001b[0m\u001b[0;34m\u001b[0m\u001b[0m\n\u001b[0m\u001b[1;32m     73\u001b[0m \u001b[0;31m# truck = Truck(env,100,20,100)\u001b[0m\u001b[0;34m\u001b[0m\u001b[0;34m\u001b[0m\u001b[0m\n\u001b[1;32m     74\u001b[0m \u001b[0;31m# env.process(loading(env,container,truck))\u001b[0m\u001b[0;34m\u001b[0m\u001b[0;34m\u001b[0m\u001b[0m\n",
      "\u001b[0;31mNameError\u001b[0m: name 'depart' is not defined"
     ]
    }
   ],
   "source": [
    "import simpy\n",
    "i = 1\n",
    "class Truck(object):\n",
    "    def __init__(self,env,depart_time,capacity,onroad_time):\n",
    "        self.env = env\n",
    "        self.depart_time = depart_time\n",
    "        self.capacity = capacity\n",
    "        self.onroad_time = onroad_time\n",
    "        self.store = simpy.Store(env)\n",
    "    \n",
    "    def onroad(self):\n",
    "        yield self.env.timeout(self.depart_time)\n",
    "        self.store.get()\n",
    "        \n",
    "    def put(self,value):\n",
    "        return self.store.put(value)\n",
    "    \n",
    "    def get(self):\n",
    "        self.env.process(self.onroad())\n",
    "    \n",
    "    def load_parcel(self,name):\n",
    "        if(len(self.count) <= self.capacity):\n",
    "            self.count.append(name)\n",
    "            print(name+\" loaded\")\n",
    "    \n",
    "    def unload_parcel(self):\n",
    "        print(self.count.pop()+\" unloaded\")\n",
    "\n",
    "\n",
    "class Container(object):\n",
    "    def __init__(self,env,depart_time,onroad_time,capacity):\n",
    "        self.env = env\n",
    "        self.depart_time = depart_time\n",
    "        self.capacity = capacity\n",
    "        self.store = simpy.Store(env,capacity = capacity)\n",
    "        self.count = 0\n",
    "    \n",
    "    def load_parcel(self, name):\n",
    "        if(self.count < self.capacity):\n",
    "            print(repr(self.env.now),name,\"loaded\")\n",
    "            self.count += 1\n",
    "            return self.store.put(name)\n",
    "    \n",
    "    def unload_parcel(self):\n",
    "        self.env.process(self.onroad())\n",
    "    \n",
    "    \n",
    "    def onroad(self):\n",
    "        yield self.env.timeout(self.depart_time+self.onroad_time)\n",
    "        self.store.get()\n",
    "\n",
    "\n",
    "def loading1(env,container):\n",
    "    global i\n",
    "    i = 0\n",
    "    while True:\n",
    "        i = i+1\n",
    "        if((env.now < container.depart_time) and (i <= container.capacity)):\n",
    "            container.load_parcel('parcel->%d' % i)\n",
    "            yield env.timeout(4)\n",
    "        else:\n",
    "            break\n",
    "\n",
    "def unloading1(env,container):\n",
    "    while True:\n",
    "        msg = yield container.unload_parcel()\n",
    "        print(repr(env.now),msg,\"unloaded\")\n",
    "        \n",
    "\n",
    "print('Start')\n",
    "env = simpy.Environment()\n",
    "container = Container(env,100,20)\n",
    "# truck = Truck(env,100,20,100)\n",
    "# env.process(loading(env,container,truck))\n",
    "# env.process(unloading(env,container,truck))\n",
    "env.process(loading1(env,container))\n",
    "env.process(unloading1(env,container))\n",
    "env.run(until = 200)"
   ]
  },
  {
   "cell_type": "code",
   "execution_count": null,
   "metadata": {
    "collapsed": true
   },
   "outputs": [],
   "source": [
    "# def loading(env,container,truck):\n",
    "#     global i\n",
    "#     i = 0\n",
    "#     i = i+1\n",
    "#     while True:\n",
    "#         if((env.now < container.depart_time) and (i <= container.capacity)):\n",
    "#             container.load_parcel('parcel->%d' % i)\n",
    "#             yield env.timeout(4)\n",
    "#         else:\n",
    "#             print('%d parcels shipping' % len(container.count))\n",
    "#             yield truck.put('%d parcels' % len(container.count))\n",
    "#             break\n",
    "        \n",
    "\n",
    "# def unloading(env,container,truck):\n",
    "#     while True:\n",
    "#         msg = yield truck.get()\n",
    "#         print('%d Received these %s' % (env.now,msg))\n",
    "#         for c in container.count:\n",
    "#             container.unload_parcel()\n",
    "#         break"
   ]
  }
 ],
 "metadata": {
  "kernelspec": {
   "display_name": "Python 3",
   "language": "python",
   "name": "python3"
  },
  "language_info": {
   "codemirror_mode": {
    "name": "ipython",
    "version": 3
   },
   "file_extension": ".py",
   "mimetype": "text/x-python",
   "name": "python",
   "nbconvert_exporter": "python",
   "pygments_lexer": "ipython3",
   "version": "3.5.2"
  }
 },
 "nbformat": 4,
 "nbformat_minor": 2
}
