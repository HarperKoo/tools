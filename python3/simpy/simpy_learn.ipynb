{
 "cells": [
  {
   "cell_type": "code",
   "execution_count": 2,
   "metadata": {
    "collapsed": false
   },
   "outputs": [
    {
     "name": "stdout",
     "output_type": "stream",
     "text": [
      "now=1, value=42\n"
     ]
    }
   ],
   "source": [
    "import simpy\n",
    "\n",
    "def example(env):\n",
    "    event = simpy.events.Timeout(env, delay=1, value=42)\n",
    "    value = yield event\n",
    "    print('now=%d, value=%d' % (env.now, value))\n",
    "    \n",
    "env = simpy.Environment()\n",
    "p = env.process(example(env))\n",
    "\n",
    "env.run()"
   ]
  },
  {
   "cell_type": "code",
   "execution_count": 15,
   "metadata": {
    "collapsed": false
   },
   "outputs": [
    {
     "data": {
      "text/plain": [
       "42"
      ]
     },
     "execution_count": 15,
     "metadata": {},
     "output_type": "execute_result"
    }
   ],
   "source": [
    "def example(env):\n",
    "    yield env.timeout(1)\n",
    "    env.exit(42) \n",
    "\n",
    "env = simpy.Environment()\n",
    "p = env.process(example(env))\n",
    "env.run(until=p)"
   ]
  },
  {
   "cell_type": "code",
   "execution_count": 9,
   "metadata": {
    "collapsed": false
   },
   "outputs": [
    {
     "name": "stdout",
     "output_type": "stream",
     "text": [
      "1\n"
     ]
    },
    {
     "data": {
      "text/plain": [
       "'Monty Python’s Flying Circus'"
      ]
     },
     "execution_count": 9,
     "metadata": {},
     "output_type": "execute_result"
    }
   ],
   "source": [
    "def my_proc(env):\n",
    "    yield env.timeout(1)\n",
    "    print(env.now)\n",
    "    return 'Monty Python’s Flying Circus'\n",
    "env = simpy.Environment()\n",
    "proc = env.process(my_proc(env))\n",
    "\n",
    "env.run(until=proc)"
   ]
  },
  {
   "cell_type": "code",
   "execution_count": 5,
   "metadata": {
    "collapsed": false
   },
   "outputs": [
    {
     "name": "stdout",
     "output_type": "stream",
     "text": [
      "<Process(my_proc) object at 0x110643748>\n",
      "<Process(my_proc) object at 0x110643748>\n"
     ]
    }
   ],
   "source": [
    "def subfunc(env):\n",
    "    print(env.active_process)  # will print \"p1\"\n",
    "\n",
    "def my_proc(env):\n",
    "    while True:\n",
    "        print(env.active_process)  # will print \"p1\"\n",
    "        subfunc(env)\n",
    "        yield env.timeout(1)\n",
    "\n",
    "env = simpy.Environment()\n",
    "p1 = env.process(my_proc(env))\n",
    "env.active_process  # None\n",
    "env.step()\n",
    "env.active_process  # None"
   ]
  },
  {
   "cell_type": "code",
   "execution_count": 16,
   "metadata": {
    "collapsed": false
   },
   "outputs": [
    {
     "data": {
      "text/plain": [
       "[<function __main__.my_callback>]"
      ]
     },
     "execution_count": 16,
     "metadata": {},
     "output_type": "execute_result"
    }
   ],
   "source": [
    "def my_callback(event):\n",
    "    print('Called back from',event)\n",
    "    \n",
    "env = simpy.Environment()\n",
    "event = env.event()\n",
    "event.callbacks.append(my_callback)\n",
    "event.callbacks"
   ]
  },
  {
   "cell_type": "code",
   "execution_count": 19,
   "metadata": {
    "collapsed": false
   },
   "outputs": [
    {
     "name": "stdout",
     "output_type": "stream",
     "text": [
      " \\o/ \\o/ \\o/225\n",
      " \\o/ \\o/ \\o/270\n"
     ]
    }
   ],
   "source": [
    "class School:\n",
    "    def __init__(self, env):\n",
    "        self.env = env\n",
    "        self.class_ends = env.event()\n",
    "        self.pupil_procs = [env.process(self.pupil()) for i in range(3)]\n",
    "        self.bell_proc = env.process(self.bell())\n",
    "\n",
    "    def bell(self):\n",
    "        for i in range(2):\n",
    "            yield self.env.timeout(45)\n",
    "            self.class_ends.succeed()\n",
    "            self.class_ends = self.env.event()\n",
    "            print(self.env.now)\n",
    "\n",
    "    def pupil(self):\n",
    "        for i in range(2):\n",
    "            print(' \\o/', end='')\n",
    "            yield self.class_ends\n",
    "\n",
    "school = School(env)\n",
    "env.run()"
   ]
  },
  {
   "cell_type": "code",
   "execution_count": 23,
   "metadata": {
    "collapsed": false
   },
   "outputs": [
    {
     "data": {
      "text/plain": [
       "23"
      ]
     },
     "execution_count": 23,
     "metadata": {},
     "output_type": "execute_result"
    }
   ],
   "source": [
    "from simpy.util import start_delayed\n",
    "\n",
    "def sub(env):\n",
    "    yield env.timeout(1)\n",
    "    return 23\n",
    "\n",
    "def parent(env):\n",
    "    start = env.now\n",
    "    sub_proc = yield start_delayed(env, sub(env), delay=3)\n",
    "    assert env.now - start == 3\n",
    "    ret = yield sub_proc\n",
    "    return ret\n",
    "\n",
    "env.run(env.process(parent(env)))"
   ]
  },
  {
   "cell_type": "code",
   "execution_count": 24,
   "metadata": {
    "collapsed": true
   },
   "outputs": [],
   "source": [
    "from simpy.events import AnyOf, AllOf, Event\n",
    "events = [Event(env) for i in range(3)]\n",
    "a = AnyOf(env, events)  # Triggers if at least one of \"events\" is triggered.\n",
    "b = AllOf(env, events)  # Triggers if all each of \"events\" is triggered."
   ]
  },
  {
   "cell_type": "code",
   "execution_count": 27,
   "metadata": {
    "collapsed": false
   },
   "outputs": [
    {
     "name": "stdout",
     "output_type": "stream",
     "text": [
      "Start parking at 0\n",
      "Start driving at 5\n",
      "Start parking at 7\n",
      "Start driving at 12\n",
      "Start parking at 14\n",
      "Start driving at 19\n",
      "Start parking at 21\n",
      "Start driving at 26\n",
      "Start parking at 28\n",
      "Start driving at 33\n",
      "Start parking at 35\n"
     ]
    }
   ],
   "source": [
    "import simpy\n",
    "\n",
    "def car(env):\n",
    "    while True:\n",
    "        print('Start parking at %d' % env.now)\n",
    "        parking_duration = 5\n",
    "        yield env.timeout(parking_duration)\n",
    "\n",
    "        print('Start driving at %d' % env.now)\n",
    "        trip_duration = 2\n",
    "        yield env.timeout(trip_duration)\n",
    "    \n",
    "env = simpy.Environment()\n",
    "car = env.process(car(env))\n",
    "env.run(until=40)"
   ]
  },
  {
   "cell_type": "code",
   "execution_count": 30,
   "metadata": {
    "collapsed": false
   },
   "outputs": [
    {
     "name": "stdout",
     "output_type": "stream",
     "text": [
      "car:0 arriving at 10\n",
      "car:1 arriving at 10\n",
      "car:2 arriving at 10\n",
      "car:3 arriving at 10\n",
      "car:0 starting to charge at 10\n",
      "car:1 starting to charge at 10\n",
      "car:0 leaving the bcs at 15\n",
      "car:1 leaving the bcs at 15\n",
      "car:2 starting to charge at 15\n",
      "car:3 starting to charge at 15\n",
      "car:2 leaving the bcs at 20\n",
      "car:3 leaving the bcs at 20\n"
     ]
    }
   ],
   "source": [
    "def car(env, name, bcs, driving_time, charge_duration):\n",
    "    # Simulate driving to the BCS\n",
    "    yield env.timeout(driving_time)\n",
    "\n",
    "    # Request one of its charging spots\n",
    "    print('%s arriving at %d' % (name, env.now))\n",
    "    with bcs.request() as req:\n",
    "        yield req\n",
    "        # Charge the battery\n",
    "        print('%s starting to charge at %s' % (name, env.now))\n",
    "        yield env.timeout(charge_duration)\n",
    "        print('%s leaving the bcs at %s' % (name, env.now))\n",
    "        \n",
    "env = simpy.Environment()\n",
    "bcs = simpy.Resource(env,capacity = 2)\n",
    "for i in range(4):\n",
    "    env.process(car(env,\"car:\"+repr(i),bcs,10,5))\n",
    "env.run(until=40)"
   ]
  },
  {
   "cell_type": "code",
   "execution_count": null,
   "metadata": {
    "collapsed": true
   },
   "outputs": [],
   "source": [
    "import random\n",
    "\n",
    "import simpy\n",
    "\n"
   ]
  }
 ],
 "metadata": {
  "kernelspec": {
   "display_name": "Python 3",
   "language": "python",
   "name": "python3"
  },
  "language_info": {
   "codemirror_mode": {
    "name": "ipython",
    "version": 3
   },
   "file_extension": ".py",
   "mimetype": "text/x-python",
   "name": "python",
   "nbconvert_exporter": "python",
   "pygments_lexer": "ipython3",
   "version": "3.5.2"
  }
 },
 "nbformat": 4,
 "nbformat_minor": 2
}
