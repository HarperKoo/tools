{
 "cells": [
  {
   "cell_type": "code",
   "execution_count": 1,
   "metadata": {
    "collapsed": true
   },
   "outputs": [],
   "source": [
    "import requests\n",
    "import time\n",
    "import os\n",
    "import subprocess\n",
    "\n",
    "def downloadFile(fileName, localFileName):\n",
    "    params = (\n",
    "        ('op', 'OPEN'),\n",
    "        ('user.name', 'novaya'),\n",
    "    )\n",
    "    r = requests.get('http://10.10.129.142:14000/webhdfs/v1/user/novaya/shuyuCDM_camp31/'+fileName, params=params)\n",
    "\n",
    "    with open(localFileName, 'w') as f:\n",
    "        f.write(r.text)"
   ]
  },
  {
   "cell_type": "code",
   "execution_count": 2,
   "metadata": {
    "collapsed": true
   },
   "outputs": [],
   "source": [
    "downloadFile('camp31/part-m-00000','/Users/harperkoo/Desktop/camp31.csv')\n",
    "downloadFile('group_camp31/part-m-00000','/Users/harperkoo/Desktop/group_camp31.csv')\n",
    "downloadFile('camp_zone_pc/part-m-00000','/Users/harperkoo/Desktop/camp_zone_pc.csv')\n",
    "downloadFile('cdmPCParcels/part-m-00000','/Users/harperkoo/Desktop/cdmPCParcels.csv')"
   ]
  },
  {
   "cell_type": "code",
   "execution_count": null,
   "metadata": {
    "collapsed": true
   },
   "outputs": [],
   "source": []
  }
 ],
 "metadata": {
  "kernelspec": {
   "display_name": "Python 3",
   "language": "python",
   "name": "python3"
  },
  "language_info": {
   "codemirror_mode": {
    "name": "ipython",
    "version": 3
   },
   "file_extension": ".py",
   "mimetype": "text/x-python",
   "name": "python",
   "nbconvert_exporter": "python",
   "pygments_lexer": "ipython3",
   "version": "3.5.2"
  }
 },
 "nbformat": 4,
 "nbformat_minor": 2
}
